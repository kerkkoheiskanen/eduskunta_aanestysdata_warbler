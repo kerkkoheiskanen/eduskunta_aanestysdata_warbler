{
 "cells": [
  {
   "cell_type": "code",
   "execution_count": 3,
   "metadata": {},
   "outputs": [],
   "source": [
    "!pip install -q -r requirements.txt"
   ]
  },
  {
   "cell_type": "code",
   "execution_count": 4,
   "metadata": {},
   "outputs": [],
   "source": [
    "import json\n",
    "import requests\n",
    "import pandas as pd\n",
    "import pickle\n",
    "from datetime import datetime, timezone\n",
    "\n",
    "data = pd.read_json(\"data.json\")\n",
    "data_supp = pd.read_json(\"data_supp.json\")\n",
    "data_distr = pd.read_json(\"data_distr.json\")\n",
    "data_main = pd.read_json(\"data_main.json\")"
   ]
  },
  {
   "cell_type": "code",
   "execution_count": 5,
   "metadata": {},
   "outputs": [],
   "source": [
    "data_cols = [\"AanestysId\",\"TekninenAvain\",\"IstuntoTyyppi\",\"IstuntoTila\",\"IstuntoTilaSeliteFI\",\"IstuntoTilaSeliteSV\",\"IstuntoVPVuosi\",\"IstuntoNumero\",\"IstuntoPvm\",\"IstuntoIlmoitettuAlkuaika\",\"IstuntoAlkuaika\",\"IstuntoLoppuaika\",\"IstuntoNimenhuutoaika\",\"KasiteltavaKohtaTekninenAvain\",\"PJTekninenAvain\",\"PJOtsikkoFI\",\"PJOtsikkoSV\",\"PJTila\",\"XmlData\",\"Created\",\"Modified\",\"PuhujaHenkilonumero\",\"ManuaalinenEsto\",\"AttachmentGroupId\",\"Imported\"]\n",
    "data_supp_cols = [\"AanestysId\",\"KieliId\",\"IstuntoVPVuosi\",\"IstuntoNumero\",\"IstuntoPvm\",\"IstuntoIlmoitettuAlkuaika\",\"IstuntoAlkuaika\",\"PJOtsikko\",\"AanestysNumero\",\"AanestysAlkuaika\",\"AanestysLoppuaika\",\"AanestysMitatoity\",\"AanestysOtsikko\",\"AanestysLisaOtsikko\",\"PaaKohtaTunniste\",\"PaaKohtaOtsikko\",\"PaaKohtaHuomautus\",\"KohtaKasittelyOtsikko\",\"KohtaKasittelyVaihe\",\"KohtaJarjestys\",\"KohtaTunniste\",\"KohtaOtsikko\",\"KohtaHuomautus\",\"AanestysTulosJaa\",\"AanestysTulosEi\",\"AanestysTulosTyhjia\",\"AanestysTulosPoissa\",\"AanestysTulosYhteensa\",\"Url\",\"AanestysPoytakirja\",\"AanestysPoytakirjaUrl\",\"AanestysValtiopaivaasia\",\"AanestysValtiopaivaasiaUrl\",\"AliKohtaTunniste\",\"Imported\"]\n",
    "data_distr_cols = [\"JakaumaId\",\"AanestysId\",\"Ryhma\",\"Jaa\",\"Ei\",\"Tyhjia\",\"Poissa\",\"Yhteensa\",\"Tyyppi\",\"Imported\"]\n",
    "data_main_cols = [\"AanestysId\",\"KieliId\",\"IstuntoVPVuosi\",\"IstuntoNumero\",\"IstuntoPvm\",\"IstuntoIlmoitettuAlkuaika\",\"IstuntoAlkuaika\",\"PJOtsikko\",\"AanestysNumero\",\"AanestysAlkuaika\",\"AanestysLoppuaika\",\"AanestysMitatoity\",\"AanestysOtsikko\",\"AanestysLisaOtsikko\",\"PaaKohtaTunniste\",\"PaaKohtaOtsikko\",\"PaaKohtaHuomautus\",\"KohtaKasittelyOtsikko\",\"KohtaKasittelyVaihe\",\"KohtaJarjestys\",\"KohtaTunniste\",\"KohtaOtsikko\",\"KohtaHuomautus\",\"AanestysTulosJaa\",\"AanestysTulosEi\",\"AanestysTulosTyhjia\",\"AanestysTulosPoissa\",\"AanestysTulosYhteensa\",\"Url\",\"AanestysPoytakirja\",\"AanestysPoytakirjaUrl\",\"AanestysValtiopaivaasia\",\"AanestysValtiopaivaasiaUrl\",\"AliKohtaTunniste\",\"Imported\"]\n",
    "\n",
    "data.columns = data_cols\n",
    "data_supp.columns = data_supp_cols\n",
    "data_distr.columns = data_distr_cols\n",
    "data_main.columns = data_main_cols"
   ]
  },
  {
   "cell_type": "code",
   "execution_count": 6,
   "metadata": {},
   "outputs": [
    {
     "name": "stdout",
     "output_type": "stream",
     "text": [
      "convert some values to numerical type\n"
     ]
    }
   ],
   "source": [
    "\n",
    "print(\"convert some values to numerical type\")\n",
    "\n",
    "data[\"AanestysId\"] = data[\"AanestysId\"].apply(pd.to_numeric, errors=\"coerce\")\n",
    "data_supp[\"AanestysId\"] = data_supp[\"AanestysId\"].apply(pd.to_numeric, errors=\"coerce\")\n",
    "data_distr[\"AanestysId\"] = data_distr[\"AanestysId\"].apply(pd.to_numeric, errors=\"coerce\")\n",
    "data_distr[\"Jaa\"] = data_distr[\"Jaa\"].apply(pd.to_numeric, errors=\"coerce\")\n",
    "data_distr[\"Ei\"] = data_distr[\"Ei\"].apply(pd.to_numeric, errors=\"coerce\")\n",
    "data_main[\"AanestysId\"] = data_main[\"AanestysId\"].apply(pd.to_numeric, errors=\"coerce\")\n",
    "data_main[\"AanestysTulosJaa\"] = data_main[\"AanestysTulosJaa\"].apply(pd.to_numeric, errors=\"coerce\")\n",
    "data_main[\"AanestysTulosEi\"] = data_main[\"AanestysTulosEi\"].apply(pd.to_numeric, errors=\"coerce\")\n",
    "data_main[\"IstuntoVPVuosi\"] = data_main[\"IstuntoVPVuosi\"].apply(pd.to_numeric, errors=\"coerce\")"
   ]
  },
  {
   "cell_type": "code",
   "execution_count": 34,
   "metadata": {},
   "outputs": [
    {
     "name": "stdout",
     "output_type": "stream",
     "text": [
      "fix data with empty columns\n",
      "Hallituksen esitys eduskunnalle laeiksi takuueläkkeestä annetun lain 8 §:n, vammaisetuuksista annetun lain ja kansaneläkelain 103 §:n muuttamisesta /valtiopaivaasiakirjat/PTK+68/2015 36213.0\n",
      "Hallituksen esitys eduskunnalle laeiksi opetus- ja kulttuuritoimen rahoituksesta annetun lain muuttamisesta ja vapaasta sivistystyöstä annetun lain muuttamisesta /valtiopaivaasiakirjat/PTK+78/2015 36273.0\n",
      "Hallituksen esitys eduskunnalle laeiksi työttömyysetuuksien rahoituksesta annetun lain ja työttömyysturvalain muuttamisesta /valtiopaivaasiakirjat/PTK+82/2015 36327.0\n",
      "Hallituksen esitys eduskunnalle laeiksi valtion rahoituksesta evankelis-luterilaiselle kirkolle eräisiin yhteiskunnallisiin tehtäviin annetun lain 2 §:n ja ortodoksisesta kirkosta annetun lain 119 §:n muuttamisesta /valtiopaivaasiakirjat/PTK+128/2016 37601.0\n",
      "Hallituksen esitys eduskunnalle laeiksi opetus- ja kulttuuritoimen rahoituksesta annetun lain muuttamisesta ja väliaikaisesta muuttamisesta sekä vapaasta sivistystyöstä annetun lain muuttamisesta /valtiopaivaasiakirjat/PTK+132/2016 37645.0\n",
      "Hallituksen esitys eduskunnalle laeiksi opetus- ja kulttuuritoimen rahoituksesta annetun lain muuttamisesta ja väliaikaisesta muuttamisesta sekä vapaasta sivistystyöstä annetun lain muuttamisesta /valtiopaivaasiakirjat/PTK+132/2016 37647.0\n",
      "Hallituksen esitys eduskunnalle laeiksi perusopetuslain 29 §:n, lukiolain, ammatillisesta peruskoulutuksesta annetun lain 28 ja 35 a §:n, oppilas- ja opiskelijahuoltolain sekä opetus- ja kulttuuritoimen rahoituksesta annetun lain 24 §:n muuttamisesta /valtiopaivaasiakirjat/PTK+139/2016 38325.0\n",
      "Hallituksen esitys eduskunnalle laeiksi opetus- ja kulttuuritoimen rahoituksesta annetun lain ja vapaasta sivistystyöstä annetun lain 11 b §:n muuttamisesta /valtiopaivaasiakirjat/PTK+133/2017 39253.0\n",
      "Hallituksen esitys eduskunnalle laeiksi uusiutuvilla energialähteillä tuotetun sähkön tuotantotuesta annetun lain ja tuulivoiman kompensaatioalueista annetun lain 6 §:n muuttamisesta /valtiopaivaasiakirjat/PTK+54/2018 41151.0\n",
      "Hallituksen esitys eduskunnalle laeiksi opetus- ja kulttuuritoimen rahoituksesta annetun lain muuttamisesta ja väliaikaisesta muuttamisesta sekä vapaasta sivistystyöstä annetun lain 11 b §:n muuttamisesta /valtiopaivaasiakirjat/PTK+122/2018 41529.0\n",
      "Hallituksen esitys eduskunnalle laiksi tartuntatautilain muuttamisesta ja väliaikaisesta muuttamisesta /valtiopaivaasiakirjat/PTK+118/2021 47469.0\n",
      "Hallituksen esitys eduskunnalle laeiksi tartuntatautilain väliaikaisesta muuttamisesta ja liikenteen palveluista annetun lain väliaikaisesta muuttamisesta /valtiopaivaasiakirjat/PTK+157/2021 48971.0\n",
      "Hallituksen esitys eduskunnalle laiksi tartuntatautilain väliaikaisesta muuttamisesta /valtiopaivaasiakirjat/PTK+159/2021 48983.0\n",
      "Hallituksen esitys eduskunnalle laiksi työntekijän eläkelain muuttamisesta ja siihen liittyviksi laeiksi /valtiopaivaasiakirjat/PTK+53/2022 49127.0\n",
      "Hallituksen esitys eduskunnalle ilmastolaiksi /valtiopaivaasiakirjat/PTK+63/2022 49139.0\n",
      "Hallituksen esitys eduskunnalle laiksi välttämättömän terveydenhuollon ja kotihoidon turvaamisesta työtaistelun aikana /valtiopaivaasiakirjat/PTK+95/2022 49391.0\n",
      "Verkkokalastus kiellettävä saimaannorpan levinneisyysalueella /valtiopaivaasiakirjat/PTK+112/2022 49445.0\n",
      "158\n"
     ]
    }
   ],
   "source": [
    "\n",
    "\n",
    "print(\"fix data with empty columns\")\n",
    "\n",
    "data.dropna()\n",
    "data_supp.dropna()\n",
    "data_distr.dropna()\n",
    "data_main.dropna()\n",
    "\n",
    "#merged = pd.merge(data_supp, data_distr, on=\"AanestysId\")\n",
    "# print(\"data main:\")\n",
    "# print(data_main.info()) \n",
    "\n",
    "voted = data_main.loc[\n",
    "    (data_main[\"IstuntoVPVuosi\"] > 2014)\n",
    "]\n",
    "\n",
    "voted = voted.loc[\n",
    "    (voted['KohtaOtsikko'].str.contains('indeks', case=False) == False)\n",
    "]\n",
    "\n",
    "voted = voted.loc[\n",
    "    (((voted[\"AanestysTulosJaa\"] > 40) &\n",
    "    (voted[\"AanestysTulosEi\"] > 30)) &\n",
    "\n",
    "    ((voted['KohtaOtsikko'].str.contains('hiil', case=False) == True) |\n",
    "    (voted['KohtaOtsikko'].str.contains('energiamuoto', case=False) == True) |\n",
    "    (voted['KohtaOtsikko'].str.contains('tartuntatauti', case=False) == True) |\n",
    "    (voted['KohtaOtsikko'].str.contains('hoiva', case=False) == True) |\n",
    "    (voted['KohtaOtsikko'].str.contains('hoit', case=False) == True) |\n",
    "    (voted['KohtaOtsikko'].str.contains('kasviruo', case=False) == True) |\n",
    "    (voted['KohtaOtsikko'].str.contains('eläke', case=False) == True))) |\n",
    "    \n",
    "    ((voted['KohtaOtsikko'].str.contains('työtaistel', case=False) == True) |\n",
    "    (voted['KohtaOtsikko'].str.contains('saimaan', case=False) == True) |\n",
    "    (voted['KohtaOtsikko'].str.contains('raska', case=False) == True) |\n",
    "    (voted['KohtaOtsikko'].str.contains('uusiutuv', case=False) == True) |\n",
    "    (voted['KohtaOtsikko'].str.contains('ilmast', case=False) == True) |\n",
    "    (voted['KohtaOtsikko'].str.contains('trans', case=False) == True) |\n",
    "    (voted['KohtaOtsikko'].str.contains('sukupuol', case=False) == True) &\n",
    "    \n",
    "    ((voted[\"AanestysTulosJaa\"] > 20) |\n",
    "    (voted[\"AanestysTulosEi\"] > 15))\n",
    "    )\n",
    "    ]\n",
    "\n",
    "# voted = voted[voted.apply(lambda row: row.astype(str).str.contains('hyv', case=False).any(), axis=1)]\n",
    "# voted = voted[voted.apply(lambda row: row.astype(str).str.contains('hylk', case=False).any(), axis=1)]\n",
    "\n",
    "voted = voted.loc[\n",
    "    (voted['AanestysLisaOtsikko'].str.contains('hyv', case=False) == True) |\n",
    "    (voted['AanestysLisaOtsikko'].str.contains('hylk', case=False) == True) | \n",
    "    (voted['AanestysOtsikko'].str.contains('hyv', case=False) == True) | \n",
    "    (voted['AanestysOtsikko'].str.contains('hylk', case=False) == True) ]\n",
    "\n",
    "# print(len(voted))\n",
    "\n",
    "for i, row in voted.iterrows():\n",
    "    print(row['KohtaOtsikko'], row[\"AanestysPoytakirjaUrl\"], row['AanestysId'])\n",
    "\n",
    "voted_distr = data_distr[data_distr['AanestysId'].isin(list(voted[\"AanestysId\"]))]\n",
    "voted_distr = voted_distr[voted_distr['Tyyppi'].str.contains(\"eduskuntaryhma\", case=False)]\n",
    "\n",
    "print(len(voted_distr))\n",
    "\n",
    "voted_distr.to_csv('aanestykset_distr.csv', encoding='utf-8')\n",
    "voted.to_csv('aanestykset.csv', encoding='utf-8')\n",
    "\n",
    "\n",
    "# for i, row in voted_distr.iterrows():\n",
    "#     print(row)\n",
    "\n",
    "# turvallisuuslaki = data_supp.loc[data_supp['KohtaOtsikko'].str.contains(\"potilasturvallisuu\", case=False, na=False)]\n",
    "\n",
    "# for item in turvallisuuslaki[\"KohtaOtsikko\"]:\n",
    "#     print(item)"
   ]
  }
 ],
 "metadata": {
  "kernelspec": {
   "display_name": "Python 3",
   "language": "python",
   "name": "python3"
  },
  "language_info": {
   "codemirror_mode": {
    "name": "ipython",
    "version": 3
   },
   "file_extension": ".py",
   "mimetype": "text/x-python",
   "name": "python",
   "nbconvert_exporter": "python",
   "pygments_lexer": "ipython3",
   "version": "3.10.9"
  },
  "orig_nbformat": 4,
  "vscode": {
   "interpreter": {
    "hash": "133eae1b785fa173f80215d0933024dc0bbd8ae2c3aaa5acc6c4cec784365267"
   }
  }
 },
 "nbformat": 4,
 "nbformat_minor": 2
}
