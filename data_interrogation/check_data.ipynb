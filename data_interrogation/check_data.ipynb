{
 "cells": [
  {
   "cell_type": "code",
   "execution_count": 4,
   "metadata": {},
   "outputs": [
    {
     "name": "stderr",
     "output_type": "stream",
     "text": [
      "ERROR: Could not open requirements file: [Errno 2] No such file or directory: 'requirements.txt'\n"
     ]
    }
   ],
   "source": [
    "!pip install -q -r requirements.txt"
   ]
  },
  {
   "cell_type": "code",
   "execution_count": 5,
   "metadata": {},
   "outputs": [],
   "source": [
    "import json\n",
    "import requests\n",
    "import pandas as pd\n",
    "import pickle\n",
    "from datetime import datetime, timezone\n",
    "\n",
    "data = pd.read_json(\"data.json\")\n",
    "data_supp = pd.read_json(\"data_supp.json\")\n",
    "data_distr = pd.read_json(\"data_distr.json\")\n",
    "data_main = pd.read_json(\"data_main.json\")"
   ]
  },
  {
   "cell_type": "code",
   "execution_count": 6,
   "metadata": {},
   "outputs": [],
   "source": [
    "data_cols = [\"AanestysId\",\"TekninenAvain\",\"IstuntoTyyppi\",\"IstuntoTila\",\"IstuntoTilaSeliteFI\",\"IstuntoTilaSeliteSV\",\"IstuntoVPVuosi\",\"IstuntoNumero\",\"IstuntoPvm\",\"IstuntoIlmoitettuAlkuaika\",\"IstuntoAlkuaika\",\"IstuntoLoppuaika\",\"IstuntoNimenhuutoaika\",\"KasiteltavaKohtaTekninenAvain\",\"PJTekninenAvain\",\"PJOtsikkoFI\",\"PJOtsikkoSV\",\"PJTila\",\"XmlData\",\"Created\",\"Modified\",\"PuhujaHenkilonumero\",\"ManuaalinenEsto\",\"AttachmentGroupId\",\"Imported\"]\n",
    "data_supp_cols = [\"AanestysId\",\"KieliId\",\"IstuntoVPVuosi\",\"IstuntoNumero\",\"IstuntoPvm\",\"IstuntoIlmoitettuAlkuaika\",\"IstuntoAlkuaika\",\"PJOtsikko\",\"AanestysNumero\",\"AanestysAlkuaika\",\"AanestysLoppuaika\",\"AanestysMitatoity\",\"AanestysOtsikko\",\"AanestysLisaOtsikko\",\"PaaKohtaTunniste\",\"PaaKohtaOtsikko\",\"PaaKohtaHuomautus\",\"KohtaKasittelyOtsikko\",\"KohtaKasittelyVaihe\",\"KohtaJarjestys\",\"KohtaTunniste\",\"KohtaOtsikko\",\"KohtaHuomautus\",\"AanestysTulosJaa\",\"AanestysTulosEi\",\"AanestysTulosTyhjia\",\"AanestysTulosPoissa\",\"AanestysTulosYhteensa\",\"Url\",\"AanestysPoytakirja\",\"AanestysPoytakirjaUrl\",\"AanestysValtiopaivaasia\",\"AanestysValtiopaivaasiaUrl\",\"AliKohtaTunniste\",\"Imported\"]\n",
    "data_distr_cols = [\"JakaumaId\",\"AanestysId\",\"Ryhma\",\"Jaa\",\"Ei\",\"Tyhjia\",\"Poissa\",\"Yhteensa\",\"Tyyppi\",\"Imported\"]\n",
    "data_main_cols = [\"AanestysId\",\"KieliId\",\"IstuntoVPVuosi\",\"IstuntoNumero\",\"IstuntoPvm\",\"IstuntoIlmoitettuAlkuaika\",\"IstuntoAlkuaika\",\"PJOtsikko\",\"AanestysNumero\",\"AanestysAlkuaika\",\"AanestysLoppuaika\",\"AanestysMitatoity\",\"AanestysOtsikko\",\"AanestysLisaOtsikko\",\"PaaKohtaTunniste\",\"PaaKohtaOtsikko\",\"PaaKohtaHuomautus\",\"KohtaKasittelyOtsikko\",\"KohtaKasittelyVaihe\",\"KohtaJarjestys\",\"KohtaTunniste\",\"KohtaOtsikko\",\"KohtaHuomautus\",\"AanestysTulosJaa\",\"AanestysTulosEi\",\"AanestysTulosTyhjia\",\"AanestysTulosPoissa\",\"AanestysTulosYhteensa\",\"Url\",\"AanestysPoytakirja\",\"AanestysPoytakirjaUrl\",\"AanestysValtiopaivaasia\",\"AanestysValtiopaivaasiaUrl\",\"AliKohtaTunniste\",\"Imported\"]\n",
    "\n",
    "data.columns = data_cols\n",
    "data_supp.columns = data_supp_cols\n",
    "data_distr.columns = data_distr_cols\n",
    "data_main.columns = data_main_cols"
   ]
  },
  {
   "cell_type": "code",
   "execution_count": 7,
   "metadata": {},
   "outputs": [
    {
     "name": "stdout",
     "output_type": "stream",
     "text": [
      "convert some values to numerical type\n"
     ]
    }
   ],
   "source": [
    "\n",
    "print(\"convert some values to numerical type\")\n",
    "\n",
    "data[\"AanestysId\"] = data[\"AanestysId\"].apply(pd.to_numeric, errors=\"coerce\")\n",
    "data_supp[\"AanestysId\"] = data_supp[\"AanestysId\"].apply(pd.to_numeric, errors=\"coerce\")\n",
    "data_distr[\"AanestysId\"] = data_distr[\"AanestysId\"].apply(pd.to_numeric, errors=\"coerce\")\n",
    "data_distr[\"Jaa\"] = data_distr[\"Jaa\"].apply(pd.to_numeric, errors=\"coerce\")\n",
    "data_distr[\"Ei\"] = data_distr[\"Ei\"].apply(pd.to_numeric, errors=\"coerce\")\n",
    "data_main[\"AanestysId\"] = data_main[\"AanestysId\"].apply(pd.to_numeric, errors=\"coerce\")\n",
    "data_main[\"AanestysTulosJaa\"] = data_main[\"AanestysTulosJaa\"].apply(pd.to_numeric, errors=\"coerce\")\n",
    "data_main[\"AanestysTulosEi\"] = data_main[\"AanestysTulosEi\"].apply(pd.to_numeric, errors=\"coerce\")\n",
    "data_main[\"IstuntoVPVuosi\"] = data_main[\"IstuntoVPVuosi\"].apply(pd.to_numeric, errors=\"coerce\")"
   ]
  },
  {
   "cell_type": "code",
   "execution_count": null,
   "metadata": {},
   "outputs": [],
   "source": [
    "\n",
    "\n",
    "print(\"fix data with empty columns\")\n",
    "\n",
    "data.dropna()\n",
    "data_supp.dropna()\n",
    "data_distr.dropna()\n",
    "data_main.dropna()\n",
    "\n",
    "#merged = pd.merge(data_supp, data_distr, on=\"AanestysId\")\n",
    "# print(\"data main:\")\n",
    "# print(data_main.info()) \n"
   ]
  },
  {
   "cell_type": "code",
   "execution_count": 1,
   "metadata": {},
   "outputs": [],
   "source": [
    "\n",
    "voted = data_main.loc[\n",
    "    (data_main[\"IstuntoVPVuosi\"] > 2014)\n",
    "]\n",
    "\n",
    "print(len(voted))\n",
    "\n",
    "voted = voted.loc[\n",
    "    (((voted[\"AanestysTulosJaa\"] > 40) &\n",
    "    (voted[\"AanestysTulosEi\"] > 25)) &\n",
    "\n",
    "    ((voted['KohtaOtsikko'].str.contains('hiil', case=False) == True) |\n",
    "    (voted['KohtaOtsikko'].str.contains('energiamuoto', case=False) == True) |\n",
    "    (voted['KohtaOtsikko'].str.contains('uusiutuv', case=False) == True) |\n",
    "    (voted['KohtaOtsikko'].str.contains('sähköverk', case=False) == True) |\n",
    "    (voted['KohtaOtsikko'].str.contains('energians', case=False) == True) |\n",
    "    (voted['KohtaOtsikko'].str.contains('tartuntatauti', case=False) == True) |\n",
    "    (voted['KohtaOtsikko'].str.contains('hoiva', case=False) == True) |\n",
    "    (voted['KohtaOtsikko'].str.contains('hoit', case=False) == True) |\n",
    "    (voted['KohtaOtsikko'].str.contains('koulutu', case=False) == True) |\n",
    "    (voted['KohtaOtsikko'].str.contains('kasviruo', case=False) == True) |\n",
    "    (voted['KohtaOtsikko'].str.contains('rahoitu', case=False) == True) |\n",
    "    (voted['KohtaOtsikko'].str.contains('luonnonsuo', case=False) == True) |\n",
    "    (voted['KohtaOtsikko'].str.contains('monimuot', case=False) == True) |\n",
    "    (voted['KohtaOtsikko'].str.contains('euroop', case=False) == True) |\n",
    "    (voted['KohtaOtsikko'].str.contains('unioni', case=False) == True) |\n",
    "    (voted['KohtaOtsikko'].str.contains('yle', case=False) == True) |\n",
    "    (voted['KohtaOtsikko'].str.contains('eläke', case=False) == True))) |\n",
    "    \n",
    "    ((voted['KohtaOtsikko'].str.contains('työtaistel', case=False) == True) |\n",
    "    (voted['KohtaOtsikko'].str.contains('saimaan', case=False) == True) |\n",
    "    (voted['KohtaOtsikko'].str.contains('raska', case=False) == True) |\n",
    "    (voted['KohtaOtsikko'].str.contains('uusiutuv', case=False) == True) |\n",
    "    (voted['KohtaOtsikko'].str.contains('unioni', case=False) == True) |\n",
    "    (voted['KohtaOtsikko'].str.contains('eu:', case=False) == True) |\n",
    "    (voted['KohtaOtsikko'].str.contains('ilmast', case=False) == True) |\n",
    "    (voted['KohtaOtsikko'].str.contains('trans', case=False) == True) |\n",
    "    (voted['KohtaOtsikko'].str.contains('sukupuol', case=False) == True) &\n",
    "    \n",
    "    ((voted[\"AanestysTulosJaa\"] > 20) |\n",
    "    (voted[\"AanestysTulosEi\"] > 15))\n",
    "    )\n",
    "    ]\n",
    "\n",
    "\n",
    "voted = voted[voted.apply(lambda row: row.astype(str).str.contains('hyv', case=False).any(), axis=1)]\n",
    "voted = voted[voted.apply(lambda row: row.astype(str).str.contains('hyl', case=False).any(), axis=1)]\n",
    "\n",
    "\n",
    "#voted = voted.loc[\n",
    "#    (voted['AanestysLisaOtsikko'].str.contains('hyv', case=False) == True) |\n",
    "#    (voted['AanestysLisaOtsikko'].str.contains('hylk', case=False) == True) | \n",
    "#    (voted['AanestysOtsikko'].str.contains('hyv', case=False) == True) | \n",
    "#    (voted['AanestysOtsikko'].str.contains('hylk', case=False) == True) ]\n",
    "\n",
    "print(len(voted))\n",
    "\n",
    "for i, row in voted.iterrows():\n",
    "    print(row['KohtaOtsikko'], row[\"AanestysPoytakirjaUrl\"], row['AanestysId'])\n",
    "\n",
    "voted_distr = data_distr[data_distr['AanestysId'].isin(list(voted[\"AanestysId\"]))]\n",
    "voted_distr = voted_distr[voted_distr['Tyyppi'].str.contains(\"eduskuntaryhma\", case=False)]\n",
    "\n",
    "print(len(voted_distr))\n",
    "\n",
    "voted_distr.to_csv('aanestykset_distr2.csv', encoding='utf-8')\n",
    "voted.to_csv('aanestykset2.csv', encoding='utf-8')\n",
    "\n",
    "\n",
    "# for i, row in voted_distr.iterrows():\n",
    "#     print(row)\n",
    "\n",
    "# turvallisuuslaki = data_supp.loc[data_supp['KohtaOtsikko'].str.contains(\"potilasturvallisuu\", case=False, na=False)]\n",
    "\n",
    "# for item in turvallisuuslaki[\"KohtaOtsikko\"]:\n",
    "#     print(item)\n"
   ]
  }
 ],
 "metadata": {
  "kernelspec": {
   "display_name": "Python 3",
   "language": "python",
   "name": "python3"
  },
  "language_info": {
   "codemirror_mode": {
    "name": "ipython",
    "version": 3
   },
   "file_extension": ".py",
   "mimetype": "text/x-python",
   "name": "python",
   "nbconvert_exporter": "python",
   "pygments_lexer": "ipython3",
   "version": "3.10.9"
  },
  "orig_nbformat": 4,
  "vscode": {
   "interpreter": {
    "hash": "133eae1b785fa173f80215d0933024dc0bbd8ae2c3aaa5acc6c4cec784365267"
   }
  }
 },
 "nbformat": 4,
 "nbformat_minor": 2
}
