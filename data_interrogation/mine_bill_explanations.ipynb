{
 "cells": [
  {
   "cell_type": "code",
   "execution_count": 1,
   "metadata": {},
   "outputs": [
    {
     "name": "stderr",
     "output_type": "stream",
     "text": [
      "  DEPRECATION: MarkupSafe is being installed using the legacy 'setup.py install' method, because it does not have a 'pyproject.toml' and the 'wheel' package is not installed. pip 23.1 will enforce this behaviour change. A possible replacement is to enable the '--use-pep517' option. Discussion can be found at https://github.com/pypa/pip/issues/8559\n",
      "\n",
      "[notice] A new release of pip available: 22.3 -> 22.3.1\n",
      "[notice] To update, run: python.exe -m pip install --upgrade pip\n"
     ]
    }
   ],
   "source": [
    "!pip install -q -r requirements.txt"
   ]
  },
  {
   "cell_type": "code",
   "execution_count": 64,
   "metadata": {},
   "outputs": [
    {
     "name": "stdout",
     "output_type": "stream",
     "text": [
      "{'Keskustan eduskuntaryhmä': 12.292857142857143, 'Kansallisen kokoomuksen eduskuntaryhmä': 12.449146514935991, 'Perussuomalaisten eduskuntaryhmä': 14.131215193521696, 'Sosialidemokraattinen eduskuntaryhmä': 12.425945378151258, 'Vihreä eduskuntaryhmä': 13.091666666666665, 'Vasemmistoliiton eduskuntaryhmä': 12.75, 'Ruotsalainen eduskuntaryhmä': 13.200000000000001, 'Kristillisdemokraattinen eduskuntaryhmä': 13.0, 'Sininen eduskuntaryhmä': 1.0833333333333335, 'Liike Nyt -eduskuntaryhmä': 13.222222222222221, 'Eduskuntaryhmä Valta kuuluu kansalle': 15.785714285714286, 'Eduskuntaryhmä Wille Rydman': 3.0}\n"
     ]
    }
   ],
   "source": [
    "import pandas as pd\n",
    "import requests\n",
    "import json\n",
    "\n",
    "df_voted = pd.read_csv(\"aanestykset.csv\")\n",
    "df_distr = pd.read_csv(\"aanestykset_distr.csv\")\n",
    "\n",
    "urls = []\n",
    "\n",
    "for i, row in df_voted.iterrows():\n",
    "    r = requests.get(\n",
    "        f'https://avoindata.eduskunta.fi/api/v1/tables/SaliDBAanestysAsiakirja/rows?perPage=50'\n",
    "        f'&page=0'\n",
    "        f'&columnName=AanestysId&columnValue={int(row[\"AanestysId\"])}'\n",
    "        )\n",
    "    response_data = json.loads(r.content)\n",
    "\n",
    "    columns = response_data[\"columnNames\"]\n",
    "    raw_data = response_data[\"rowData\"]\n",
    "    \n",
    "    urls_row = []\n",
    "\n",
    "    for row in raw_data:\n",
    "        urls_row.append(row[3])\n",
    "    \n",
    "    urls.append(urls_row)\n",
    "\n",
    "df_voted[\"info_url\"] = urls\n",
    "\n",
    "df_voted = df_voted[~df_voted.AanestysId.isin([36327.0, 37647.0, 38325.0, 39253.0, 41529.0, 48971.0, 48983.0, 49127.0])]\n",
    "\n",
    "\n",
    "my_vote = {\n",
    "    36213: 1,\n",
    "    36273: 0,\n",
    "    37601: 1,\n",
    "    37645: 0,\n",
    "    41151: 1,\n",
    "    47469: 1,\n",
    "    49139: 1,\n",
    "    49391: 0,\n",
    "    49445: 1\n",
    "}\n",
    "\n",
    "party_vote = {\n",
    "}\n",
    "\n",
    "\n",
    "for vote_id in my_vote.keys():\n",
    "    for i, row in df_distr[df_distr.AanestysId == vote_id].iterrows():\n",
    "        if not party_vote.get(vote_id):\n",
    "            party_vote[vote_id] = {}\n",
    "        votes = int(row[\"Jaa\"])+int(row[\"Ei\"])+int(row[\"Tyhjia\"])+int(row[\"Poissa\"])\n",
    "        vote_mean = int(row[\"Jaa\"])+int(row[\"Tyhjia\"])*0.5+int(row[\"Poissa\"])*0.5\n",
    "        party_vote[vote_id][row[\"Ryhma\"]] = vote_mean/votes\n",
    "\n",
    "\n",
    "parties_res = {}\n",
    "\n",
    "for vote_id in party_vote:\n",
    "    for party, vote_val in party_vote[vote_id].items():\n",
    "        if not parties_res.get(party):\n",
    "            parties_res[party] = abs(vote_val - my_vote[vote_id])\n",
    "        else:\n",
    "            parties_res[party] += abs(vote_val - my_vote[vote_id])\n",
    "\n",
    "        # print(party +\" puolue ja äänestys \"+ str(vote_id) + \" oli tulos \" + str(abs(vote_val - my_vote[vote_id])))\n",
    "\n",
    "parties_res[\"Liike Nyt -eduskuntaryhmä\"] = parties_res[\"Liike Nyt -eduskuntaryhmä\"]/(9/17)\n",
    "parties_res[\"Eduskuntaryhmä Valta kuuluu kansalle\"] = parties_res[\"Eduskuntaryhmä Valta kuuluu kansalle\"]/(7/17)\n",
    "print(parties_res)\n",
    "\n",
    "\n",
    "\n",
    "\n",
    "# for i, row in df_voted.iterrows():\n",
    "\n",
    "#     print(row[\"AanestysId\"])\n",
    "#     for url in row[\"info_url\"]:\n",
    "#         print(\"https://www.eduskunta.fi\"+url)\n",
    "\n"
   ]
  }
 ],
 "metadata": {
  "kernelspec": {
   "display_name": "Python 3",
   "language": "python",
   "name": "python3"
  },
  "language_info": {
   "codemirror_mode": {
    "name": "ipython",
    "version": 3
   },
   "file_extension": ".py",
   "mimetype": "text/x-python",
   "name": "python",
   "nbconvert_exporter": "python",
   "pygments_lexer": "ipython3",
   "version": "3.11.0"
  },
  "orig_nbformat": 4,
  "vscode": {
   "interpreter": {
    "hash": "3bd13bc16400e16874b7ce28af58a129343287e94248a182c1f06fbb6b76ef8e"
   }
  }
 },
 "nbformat": 4,
 "nbformat_minor": 2
}
